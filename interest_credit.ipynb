{
 "cells": [
  {
   "cell_type": "code",
   "execution_count": 1,
   "metadata": {
    "collapsed": true
   },
   "outputs": [],
   "source": [
    "%matplotlib notebook\n",
    "import matplotlib.pyplot as plt\n",
    "import numpy as np\n",
    "import pandas as pd\n",
    "import sympy as sy\n",
    "plt.style.use('seaborn-white')"
   ]
  },
  {
   "cell_type": "markdown",
   "metadata": {
    "collapsed": false
   },
   "source": [
    "# Credit Card Debt and Compound Interest\n",
    "\n",
    "**GOALS**:\n",
    "    \n",
    "* Understand the difference between simple and compound interest\n",
    "\n",
    "* Examine the effect of simple vs. compound interest in the case of credit card debt\n",
    "\n",
    "---\n",
    "\n",
    "### Interest\n",
    "\n",
    "**Simple Interest**: Interest calculated on initial amount of investment or money borrowed.\n",
    "\n",
    "    Example: $4000 invested at 10% simple interest pays (.10)(4000) = 400 every month \n",
    "    \n",
    "**Compound Interest**: Interest is calculated on the balance of money in the account or owed to the lender.\n",
    "\n",
    "    Example: $4000 invested at 10% Annual Interest Rate compounded monthly pays (.10)(4000) = 400 the first year. \n",
    "    \n",
    "    However, the second year we have $4400 in the account and find 10% of this, i.e., (.10)(4400) = 440 dollars interest year 2.\n",
    "    \n",
    "---\n",
    "\n",
    "![](college_parents.png)\n",
    "\n",
    "---\n",
    "\n",
    "### Two Scenarios\n",
    "\n",
    "Your goal for today is to investigate the two scenarios below.  You should describe the different outcomes and produce a nice visualization that helps understand the two scenarios.  Upon completion, you may begin the additional questions at the end of the assignment.\n",
    "\n",
    "**BAILEY**: Bailey obtained a credit card during orientation weekend her freshman year.  By the end of this year she had spent \\$5000 on the card, maxing it out.  Bailey's parents agreed to pay this debt off for Bailey so as to not incur interest charges.  In return, Bailey has to pay her parents \\$200 per month until she's paid down the \\$5000.  How long will this take?\n",
    "\n",
    "**JACOB**: Jacob also obtained a credit card during orientation and maxed it out in no time.  His parents are unwilling to pay it back for him however, and he will have to pay the credit card company Annual Interest Rate of 21.4%, compounded monthly.  He has a decent job and is also able to pay \\$200 per month.  How long will this take?  How much did he spend in total?"
   ]
  },
  {
   "cell_type": "code",
   "execution_count": null,
   "metadata": {
    "collapsed": true
   },
   "outputs": [],
   "source": []
  },
  {
   "cell_type": "code",
   "execution_count": null,
   "metadata": {
    "collapsed": true
   },
   "outputs": [],
   "source": []
  },
  {
   "cell_type": "markdown",
   "metadata": {},
   "source": [
    "## Sympy Lab?\n",
    "\n",
    "Sympy work to investigate compound interest formula?"
   ]
  },
  {
   "cell_type": "code",
   "execution_count": null,
   "metadata": {
    "collapsed": true
   },
   "outputs": [],
   "source": []
  }
 ],
 "metadata": {
  "kernelspec": {
   "display_name": "Python 2 (SageMath)",
   "language": "python",
   "name": "python2"
  },
  "language_info": {
   "codemirror_mode": {
    "name": "ipython",
    "version": 2
   },
   "file_extension": ".py",
   "mimetype": "text/x-python",
   "name": "python",
   "nbconvert_exporter": "python",
   "pygments_lexer": "ipython2",
   "version": "2.7.13"
  }
 },
 "nbformat": 4,
 "nbformat_minor": 0
}
