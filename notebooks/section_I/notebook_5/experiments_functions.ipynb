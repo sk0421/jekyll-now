{
 "cells": [
  {
   "cell_type": "code",
   "execution_count": 2,
   "metadata": {
    "collapsed": false
   },
   "outputs": [],
   "source": [
    "import matplotlib\n",
    "matplotlib.rcParams.update({'font.size': 16})\n",
    "import numpy as np\n",
    "import matplotlib.pyplot as plt\n",
    "from ipywidgets import interact, widgets, fixed\n",
    "\n",
    "size = (12,6)"
   ]
  },
  {
   "cell_type": "markdown",
   "metadata": {},
   "source": [
    "## Experiments with Functions\n",
    "\n",
    "---\n",
    "\n",
    "Today we want to play around with some different functions and parameters to get a better feel for moving from graphs to equations.  First, we discuss the notion of a **parameter** as opposed to a **variable**.    **Parameters** are the coefficients of the variables and other constants that are either added or subtracted to the entire expression.  For a linear function, recall that we have:\n",
    "\n",
    "$$y = ax + b$$\n",
    "\n",
    "Here, $y$ and $x$ are the **variables** and $a$ and $b$ are **parameters**.\n",
    "\n",
    "We will play with what effect altering the parameters of linear, exponential, quadratic, and trigonometric functions are.\n",
    "\n",
    "Make sure to test positive and negative values for each and consider the different combinations that you need to analyze in determining the behavior."
   ]
  },
  {
   "cell_type": "code",
   "execution_count": 3,
   "metadata": {
    "collapsed": false
   },
   "outputs": [
    {
     "data": {
      "text/plain": [
       "array([  7.       ,   6.9979998,   6.9959996, ..., -12.9959996,\n",
       "       -12.9979998, -13.       ])"
      ]
     },
     "metadata": {},
     "output_type": "display_data"
    },
    {
     "data": {
      "text/plain": [
       "<function __main__.linear>"
      ]
     },
     "execution_count": 3,
     "metadata": {},
     "output_type": "execute_result"
    }
   ],
   "source": [
    "def linear(a, b):\n",
    "    return a*x + b\n",
    "\n",
    "x = np.linspace(0,100,10000)\n",
    "    \n",
    "interact(linear, a=(-5,5,.3), b=(0, 15, .5))"
   ]
  },
  {
   "cell_type": "code",
   "execution_count": 4,
   "metadata": {
    "collapsed": true
   },
   "outputs": [],
   "source": [
    "def plot_linear(a,b):\n",
    "    plt.plot(x, a*x + b, '--')\n",
    "    plt.xlim(0,20)\n",
    "    plt.ylim(0,20)"
   ]
  },
  {
   "cell_type": "code",
   "execution_count": 5,
   "metadata": {
    "collapsed": false
   },
   "outputs": [
    {
     "data": {
      "image/png": "[encoded data removed]",
      "text/plain": [
       "<matplotlib.figure.Figure at 0x7f4767fb6b10>"
      ]
     },
     "metadata": {},
     "output_type": "display_data"
    }
   ],
   "source": [
    "plot_linear(2,4)"
   ]
  },
  {
   "cell_type": "code",
   "execution_count": 6,
   "metadata": {
    "collapsed": false
   },
   "outputs": [
    {
     "data": {
      "text/plain": [
       "<function __main__.plot_linear>"
      ]
     },
     "execution_count": 6,
     "metadata": {},
     "output_type": "execute_result"
    },
    {
     "data": {
      "image/png": "[encoded data removed]",
      "text/plain": [
       "<matplotlib.figure.Figure at 0x7f4765ba2f50>"
      ]
     },
     "metadata": {},
     "output_type": "display_data"
    }
   ],
   "source": [
    "interact(plot_linear, a=(0.01,5,.01), b=(0, 15, .5))"
   ]
  },
  {
   "cell_type": "markdown",
   "metadata": {},
   "source": [
    "## Quadratics\n",
    "\n",
    "---\n",
    "\n",
    "We have three different forms of the quadratic.  \n",
    "\n",
    "$$ax^2 + bx + c \\quad \\text{standard form}$$\n",
    "\n",
    "$$a(x - b)^2 + c \\quad \\text{vertex form}$$\n",
    "\n",
    "$$a(x-b)(x-c) \\quad \\text{factored form}$$\n",
    "\n",
    "Experiment with each and decide which model clearly demonstrates some of the key features of a quadratic like *roots* and *vertex*.\n",
    "\n",
    "Here is the **standard form**."
   ]
  },
  {
   "cell_type": "code",
   "execution_count": 26,
   "metadata": {
    "collapsed": true
   },
   "outputs": [],
   "source": [
    "x = np.linspace(-5,5,100)\n",
    "def plot_quad(a, b, c):\n",
    "    plt.plot(x, a*x**2 + b*x + c)\n",
    "    plt.grid(True)\n",
    "    plt.xlim(-5,5)\n",
    "    plt.ylim(-5,20)"
   ]
  },
  {
   "cell_type": "code",
   "execution_count": 27,
   "metadata": {
    "collapsed": false
   },
   "outputs": [
    {
     "data": {
      "image/png": "[encoded data removed]",
      "text/plain": [
       "<matplotlib.figure.Figure at 0x7f47647f5090>"
      ]
     },
     "metadata": {},
     "output_type": "display_data"
    }
   ],
   "source": [
    "plot_quad(1,2,3)"
   ]
  },
  {
   "cell_type": "code",
   "execution_count": 28,
   "metadata": {
    "collapsed": false
   },
   "outputs": [
    {
     "data": {
      "text/plain": [
       "<function __main__.plot_quad>"
      ]
     },
     "execution_count": 28,
     "metadata": {},
     "output_type": "execute_result"
    },
    {
     "data": {
      "image/png": "[encoded data removed]",
      "text/plain": [
       "<matplotlib.figure.Figure at 0x7f4764991510>"
      ]
     },
     "metadata": {},
     "output_type": "display_data"
    }
   ],
   "source": [
    "interact(plot_quad, a=(-2.0, 3.0, 0.1), b=(-2.0, 3.0, 0.1), c=(-2.0, 13.0, 0.1))"
   ]
  },
  {
   "cell_type": "markdown",
   "metadata": {
    "collapsed": true
   },
   "source": [
    "### Findings:\n",
    "\n",
    "Consider the following scenarios that exhaust the possitilities of different signed values.\n",
    "\n",
    "a | b | c | Behavior\n",
    "--- | --- | ---\n",
    "+ | + | + |\n",
    "+ | + | - |\n",
    "+ | - | + |\n",
    "- | - | - |\n",
    "- | + | + |\n",
    "- | + | - |\n"
   ]
  },
  {
   "cell_type": "markdown",
   "metadata": {},
   "source": [
    "### Factored form"
   ]
  },
  {
   "cell_type": "code",
   "execution_count": 29,
   "metadata": {
    "collapsed": false
   },
   "outputs": [],
   "source": [
    "x = np.linspace(-5,5,100)\n",
    "def plot_quad(a, b, c):\n",
    "    plt.plot(x, a*(x-b)*(x-c))\n",
    "    plt.grid(True)\n",
    "    plt.xlim(-5,5)\n",
    "    plt.ylim(-5,20)"
   ]
  },
  {
   "cell_type": "code",
   "execution_count": 30,
   "metadata": {
    "collapsed": false
   },
   "outputs": [
    {
     "data": {
      "image/png": "[encoded data removed]",
      "text/plain": [
       "<matplotlib.figure.Figure at 0x7f4764972510>"
      ]
     },
     "metadata": {},
     "output_type": "display_data"
    }
   ],
   "source": [
    "plot_quad(1,2,3)"
   ]
  },
  {
   "cell_type": "code",
   "execution_count": 31,
   "metadata": {
    "collapsed": false
   },
   "outputs": [
    {
     "data": {
      "image/png": "[encoded data removed]",
      "text/plain": [
       "<matplotlib.figure.Figure at 0x7f4764513d50>"
      ]
     },
     "metadata": {},
     "output_type": "display_data"
    }
   ],
   "source": [
    "interact(plot_quad, a=(-2.0, 3.0, 0.1), b=(-2.0, 3.0, 0.1), c=(-2.0, 13.0, 0.1))"
   ]
  },
  {
   "cell_type": "markdown",
   "metadata": {},
   "source": [
    "### Vertex Form"
   ]
  },
  {
   "cell_type": "code",
   "execution_count": 14,
   "metadata": {
    "collapsed": true
   },
   "outputs": [],
   "source": []
  },
  {
   "cell_type": "code",
   "execution_count": null,
   "metadata": {
    "collapsed": true
   },
   "outputs": [],
   "source": []
  },
  {
   "cell_type": "code",
   "execution_count": null,
   "metadata": {
    "collapsed": true
   },
   "outputs": [],
   "source": []
  },
  {
   "cell_type": "markdown",
   "metadata": {},
   "source": [
    "## Exponential Function\n",
    "\n",
    "We may have exponential functions given by:\n",
    "\n",
    "$$ y = ab^x + c $$\n",
    "\n",
    "Make sure you use positive and negative values but also test small numbers for $b$."
   ]
  },
  {
   "cell_type": "code",
   "execution_count": null,
   "metadata": {
    "collapsed": true
   },
   "outputs": [],
   "source": []
  },
  {
   "cell_type": "code",
   "execution_count": null,
   "metadata": {
    "collapsed": true
   },
   "outputs": [],
   "source": []
  },
  {
   "cell_type": "code",
   "execution_count": null,
   "metadata": {
    "collapsed": true
   },
   "outputs": [],
   "source": []
  },
  {
   "cell_type": "markdown",
   "metadata": {},
   "source": [
    "## Trigonometric Functions\n",
    "\n",
    "In the text, one of the first examples in section 8.2 is the funtion:\n",
    "\n",
    "$$H(t) = 12 + 2.4\\sin(\\frac{2\\pi}{365}(t - 80))$$\n",
    "\n",
    "Can you translate this into a function to experiment on with some parameters?"
   ]
  },
  {
   "cell_type": "code",
   "execution_count": 34,
   "metadata": {
    "collapsed": true
   },
   "outputs": [],
   "source": [
    "def ex_from_p393(x):\n",
    "    return 12 + 2.4*np.sin((2*np.pi/365)*(x-80))"
   ]
  },
  {
   "cell_type": "code",
   "execution_count": 36,
   "metadata": {
    "collapsed": false
   },
   "outputs": [
    {
     "data": {
      "text/plain": [
       "[<matplotlib.lines.Line2D at 0x7f4765ab2550>]"
      ]
     },
     "execution_count": 36,
     "metadata": {},
     "output_type": "execute_result"
    },
    {
     "data": {
      "image/png": "[encoded data removed]",
      "text/plain": [
       "<matplotlib.figure.Figure at 0x7f4764b14e10>"
      ]
     },
     "metadata": {},
     "output_type": "display_data"
    }
   ],
   "source": [
    "x = np.linspace(0,390,10000)\n",
    "plt.plot(x,ex_from_p393(x))"
   ]
  },
  {
   "cell_type": "code",
   "execution_count": null,
   "metadata": {
    "collapsed": true
   },
   "outputs": [],
   "source": []
  }
 ],
 "metadata": {
  "kernelspec": {
   "display_name": "Python 2 (SageMath)",
   "language": "python",
   "name": "python2"
  },
  "language_info": {
   "codemirror_mode": {
    "name": "ipython",
    "version": 2
   },
   "file_extension": ".py",
   "mimetype": "text/x-python",
   "name": "python",
   "nbconvert_exporter": "python",
   "pygments_lexer": "ipython2",
   "version": "2.7.13"
  },
  "widgets": {
   "state": {
    "0ce0f5d3d9e141949e0ea4f4bea59be7": {
     "views": [
      {
       "cell_index": 14
      }
     ]
    },
    "2d18077d1a4141678f265a6ec6bab5a3": {
     "views": [
      {
       "cell_index": 9
      }
     ]
    },
    "36fd4523cfa849e2ba03b0894b2b6000": {
     "views": [
      {
       "cell_index": 5
      }
     ]
    },
    "96efd045e0384131a3002025c59950e0": {
     "views": [
      {
       "cell_index": 2
      }
     ]
    }
   },
   "version": "1.2.0"
  }
 },
 "nbformat": 4,
 "nbformat_minor": 0
}
